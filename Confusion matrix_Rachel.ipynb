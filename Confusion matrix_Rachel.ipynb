{
 "cells": [
  {
   "cell_type": "markdown",
   "id": "8b0f9100",
   "metadata": {},
   "source": [
    "<b>CONFUSION MATRIX</b>\n",
    "\n",
    "• The confusion matrix is one of the most powerful tools for predictive\n",
    "analysis in machine learning.\n",
    "• A confusion matrix gives you information about how your machine\n",
    "classifier has performed, pitting properly classified examples against\n",
    "misclassified examples\n",
    "• In the machine learning context, a confusion matrix is a metric used\n",
    "to quantify the performance of a machine learning classifier.\n",
    "• The confusion matrix is used when there are two or more classes as\n",
    "the output of the classifier."
   ]
  },
  {
   "cell_type": "markdown",
   "id": "f4985fe5",
   "metadata": {},
   "source": [
    "<b>Actual vs predicted<b>\n",
    "\n",
    "\n",
    "• A confusion matrix presents a table layout of the different outcomes\n",
    "of the prediction and results of a classification problem and helps\n",
    "visualize its outcomes.\n",
    "• It plots a table of all the predicted and actual values of a classifier."
   ]
  },
  {
   "cell_type": "markdown",
   "id": "b8406a35",
   "metadata": {},
   "source": [
    "2x2 Confusion matrix\n",
    "<b>Accuracy vs confusion matrix</b>\n",
    "\n",
    "• Confusion matrices are useful because they give direct comparisons\n",
    "of values like<b> True Positives, False Positives, True Negatives and False\n",
    "Negatives.</b>\n",
    "\n",
    "• In contrast, other machine learning classification metrics like\n",
    "“Accuracy” give less useful information, as Accuracy is simply the\n",
    "<b>difference between correct predictions divided by the total number of\n",
    "predictions.<b>\n"
   ]
  },
  {
   "cell_type": "markdown",
   "id": "d0d26478",
   "metadata": {},
   "source": [
    "Confusion matrix\n",
    "\n",
    "• Confusion matrices are used to visualize important predictive analytics\n",
    "like\n",
    "1. Recall\n",
    "2. Accuracy\n",
    "3. Precision.\n",
    "4. F1-Score"
   ]
  },
  {
   "cell_type": "markdown",
   "id": "6bb62da2",
   "metadata": {},
   "source": [
    "<b>Recall\n",
    "\n",
    "• <b>The term recall refers to the proportion of genuine positive examples\n",
    "that a predictive model has identified.</b>\n",
    "• Recall is also sometimes called the hit rate, while sensitivity describes\n",
    "a model’s true positive prediction rate or the recall likelihood.\n",
    "\n",
    "<b>Recall<b>=TP/TP+FN"
   ]
  },
  {
   "cell_type": "markdown",
   "id": "3a2f5555",
   "metadata": {},
   "source": [
    "<b>Precision</b>\n",
    "\n",
    "• Precision is similar to recall, in the respect that it’s concerned with\n",
    "your model’s predictions of positive examples\n",
    "• Precision is interested in the number of genuinely positive examples\n",
    "your model identified against all the examples it labeled positive\n",
    "\n",
    "<b> Precision= TP/TP+FN</b>\n"
   ]
  },
  {
   "cell_type": "markdown",
   "id": "68926faa",
   "metadata": {},
   "source": [
    "<b>Accuracy<b>\n",
    "\n",
    "• Accuracy is the simplest. It defines your total number of true\n",
    "predictions in total dataset.\n",
    "• It is represented by the equation of true positive and true negative\n",
    "examples divided by true positive, false positive, true negative and\n",
    "false negative examples.\n",
    "\n",
    "<b>Accuracy= TP+TN/TP+TN+FP+FN"
   ]
  },
  {
   "cell_type": "markdown",
   "id": "51327fc8",
   "metadata": {},
   "source": [
    "<B>F1-Score</B>\n",
    "\n",
    "• It is the harmonic mean of Recall and Precision. It is useful when you\n",
    "need to take both Precision and Recall into account.\n",
    "<B>F1-SCORE = 2*PRECISION*RECALL/PRECISION+RECALL</B>"
   ]
  },
  {
   "cell_type": "markdown",
   "id": "58256bda",
   "metadata": {},
   "source": [
    "Confusion Matrix\n",
    "\n",
    " <B>EXAMPLE<B>:\n",
    "We'll build a logistic regression model using a heart attack\n",
    "dataset to predict if a patient is at risk of a heart attack"
   ]
  },
  {
   "cell_type": "markdown",
   "id": "f706bad8",
   "metadata": {},
   "source": [
    "First, we import all the necessary libraries to create the model, and\n",
    "then read the dataset using pandas"
   ]
  },
  {
   "cell_type": "code",
   "execution_count": null,
   "id": "024a7a16",
   "metadata": {},
   "outputs": [],
   "source": []
  },
  {
   "cell_type": "code",
   "execution_count": 5,
   "id": "38c37daa",
   "metadata": {},
   "outputs": [
    {
     "data": {
      "text/html": [
       "<div>\n",
       "<style scoped>\n",
       "    .dataframe tbody tr th:only-of-type {\n",
       "        vertical-align: middle;\n",
       "    }\n",
       "\n",
       "    .dataframe tbody tr th {\n",
       "        vertical-align: top;\n",
       "    }\n",
       "\n",
       "    .dataframe thead th {\n",
       "        text-align: right;\n",
       "    }\n",
       "</style>\n",
       "<table border=\"1\" class=\"dataframe\">\n",
       "  <thead>\n",
       "    <tr style=\"text-align: right;\">\n",
       "      <th></th>\n",
       "      <th>age</th>\n",
       "      <th>sex</th>\n",
       "      <th>cp</th>\n",
       "      <th>trtbps</th>\n",
       "      <th>chol</th>\n",
       "      <th>fbs</th>\n",
       "      <th>restecg</th>\n",
       "      <th>thalachh</th>\n",
       "      <th>exng</th>\n",
       "      <th>oldpeak</th>\n",
       "      <th>slp</th>\n",
       "      <th>caa</th>\n",
       "      <th>thall</th>\n",
       "      <th>output</th>\n",
       "    </tr>\n",
       "  </thead>\n",
       "  <tbody>\n",
       "    <tr>\n",
       "      <th>0</th>\n",
       "      <td>63</td>\n",
       "      <td>1</td>\n",
       "      <td>3</td>\n",
       "      <td>145</td>\n",
       "      <td>233</td>\n",
       "      <td>1</td>\n",
       "      <td>0</td>\n",
       "      <td>150</td>\n",
       "      <td>0</td>\n",
       "      <td>2.3</td>\n",
       "      <td>0</td>\n",
       "      <td>0</td>\n",
       "      <td>1</td>\n",
       "      <td>1</td>\n",
       "    </tr>\n",
       "    <tr>\n",
       "      <th>1</th>\n",
       "      <td>37</td>\n",
       "      <td>1</td>\n",
       "      <td>2</td>\n",
       "      <td>130</td>\n",
       "      <td>250</td>\n",
       "      <td>0</td>\n",
       "      <td>1</td>\n",
       "      <td>187</td>\n",
       "      <td>0</td>\n",
       "      <td>3.5</td>\n",
       "      <td>0</td>\n",
       "      <td>0</td>\n",
       "      <td>2</td>\n",
       "      <td>1</td>\n",
       "    </tr>\n",
       "    <tr>\n",
       "      <th>2</th>\n",
       "      <td>41</td>\n",
       "      <td>0</td>\n",
       "      <td>1</td>\n",
       "      <td>130</td>\n",
       "      <td>204</td>\n",
       "      <td>0</td>\n",
       "      <td>0</td>\n",
       "      <td>172</td>\n",
       "      <td>0</td>\n",
       "      <td>1.4</td>\n",
       "      <td>2</td>\n",
       "      <td>0</td>\n",
       "      <td>2</td>\n",
       "      <td>1</td>\n",
       "    </tr>\n",
       "    <tr>\n",
       "      <th>3</th>\n",
       "      <td>56</td>\n",
       "      <td>1</td>\n",
       "      <td>1</td>\n",
       "      <td>120</td>\n",
       "      <td>236</td>\n",
       "      <td>0</td>\n",
       "      <td>1</td>\n",
       "      <td>178</td>\n",
       "      <td>0</td>\n",
       "      <td>0.8</td>\n",
       "      <td>2</td>\n",
       "      <td>0</td>\n",
       "      <td>2</td>\n",
       "      <td>1</td>\n",
       "    </tr>\n",
       "    <tr>\n",
       "      <th>4</th>\n",
       "      <td>57</td>\n",
       "      <td>0</td>\n",
       "      <td>0</td>\n",
       "      <td>120</td>\n",
       "      <td>354</td>\n",
       "      <td>0</td>\n",
       "      <td>1</td>\n",
       "      <td>163</td>\n",
       "      <td>1</td>\n",
       "      <td>0.6</td>\n",
       "      <td>2</td>\n",
       "      <td>0</td>\n",
       "      <td>2</td>\n",
       "      <td>1</td>\n",
       "    </tr>\n",
       "  </tbody>\n",
       "</table>\n",
       "</div>"
      ],
      "text/plain": [
       "   age  sex  cp  trtbps  chol  fbs  restecg  thalachh  exng  oldpeak  slp  \\\n",
       "0   63    1   3     145   233    1        0       150     0      2.3    0   \n",
       "1   37    1   2     130   250    0        1       187     0      3.5    0   \n",
       "2   41    0   1     130   204    0        0       172     0      1.4    2   \n",
       "3   56    1   1     120   236    0        1       178     0      0.8    2   \n",
       "4   57    0   0     120   354    0        1       163     1      0.6    2   \n",
       "\n",
       "   caa  thall  output  \n",
       "0    0      1       1  \n",
       "1    0      2       1  \n",
       "2    0      2       1  \n",
       "3    0      2       1  \n",
       "4    0      2       1  "
      ]
     },
     "execution_count": 5,
     "metadata": {},
     "output_type": "execute_result"
    }
   ],
   "source": [
    "import pandas as pd\n",
    "from sklearn.model_selection import train_test_split\n",
    "from sklearn.linear_model import LogisticRegression\n",
    "from sklearn.metrics import confusion_matrix\n",
    "from sklearn.metrics import classification_report\n",
    "df = pd.read_csv(\"heart.csv\")\n",
    "df.head()"
   ]
  },
  {
   "cell_type": "code",
   "execution_count": 4,
   "id": "08d254c0",
   "metadata": {},
   "outputs": [
    {
     "data": {
      "text/html": [
       "<div>\n",
       "<style scoped>\n",
       "    .dataframe tbody tr th:only-of-type {\n",
       "        vertical-align: middle;\n",
       "    }\n",
       "\n",
       "    .dataframe tbody tr th {\n",
       "        vertical-align: top;\n",
       "    }\n",
       "\n",
       "    .dataframe thead th {\n",
       "        text-align: right;\n",
       "    }\n",
       "</style>\n",
       "<table border=\"1\" class=\"dataframe\">\n",
       "  <thead>\n",
       "    <tr style=\"text-align: right;\">\n",
       "      <th></th>\n",
       "      <th>age</th>\n",
       "      <th>sex</th>\n",
       "      <th>cp</th>\n",
       "      <th>trtbps</th>\n",
       "      <th>chol</th>\n",
       "      <th>fbs</th>\n",
       "      <th>restecg</th>\n",
       "      <th>thalachh</th>\n",
       "      <th>exng</th>\n",
       "      <th>oldpeak</th>\n",
       "      <th>slp</th>\n",
       "      <th>caa</th>\n",
       "      <th>thall</th>\n",
       "      <th>output</th>\n",
       "    </tr>\n",
       "  </thead>\n",
       "  <tbody>\n",
       "    <tr>\n",
       "      <th>0</th>\n",
       "      <td>63</td>\n",
       "      <td>1</td>\n",
       "      <td>3</td>\n",
       "      <td>145</td>\n",
       "      <td>233</td>\n",
       "      <td>1</td>\n",
       "      <td>0</td>\n",
       "      <td>150</td>\n",
       "      <td>0</td>\n",
       "      <td>2.3</td>\n",
       "      <td>0</td>\n",
       "      <td>0</td>\n",
       "      <td>1</td>\n",
       "      <td>1</td>\n",
       "    </tr>\n",
       "    <tr>\n",
       "      <th>1</th>\n",
       "      <td>37</td>\n",
       "      <td>1</td>\n",
       "      <td>2</td>\n",
       "      <td>130</td>\n",
       "      <td>250</td>\n",
       "      <td>0</td>\n",
       "      <td>1</td>\n",
       "      <td>187</td>\n",
       "      <td>0</td>\n",
       "      <td>3.5</td>\n",
       "      <td>0</td>\n",
       "      <td>0</td>\n",
       "      <td>2</td>\n",
       "      <td>1</td>\n",
       "    </tr>\n",
       "    <tr>\n",
       "      <th>2</th>\n",
       "      <td>41</td>\n",
       "      <td>0</td>\n",
       "      <td>1</td>\n",
       "      <td>130</td>\n",
       "      <td>204</td>\n",
       "      <td>0</td>\n",
       "      <td>0</td>\n",
       "      <td>172</td>\n",
       "      <td>0</td>\n",
       "      <td>1.4</td>\n",
       "      <td>2</td>\n",
       "      <td>0</td>\n",
       "      <td>2</td>\n",
       "      <td>1</td>\n",
       "    </tr>\n",
       "    <tr>\n",
       "      <th>3</th>\n",
       "      <td>56</td>\n",
       "      <td>1</td>\n",
       "      <td>1</td>\n",
       "      <td>120</td>\n",
       "      <td>236</td>\n",
       "      <td>0</td>\n",
       "      <td>1</td>\n",
       "      <td>178</td>\n",
       "      <td>0</td>\n",
       "      <td>0.8</td>\n",
       "      <td>2</td>\n",
       "      <td>0</td>\n",
       "      <td>2</td>\n",
       "      <td>1</td>\n",
       "    </tr>\n",
       "    <tr>\n",
       "      <th>4</th>\n",
       "      <td>57</td>\n",
       "      <td>0</td>\n",
       "      <td>0</td>\n",
       "      <td>120</td>\n",
       "      <td>354</td>\n",
       "      <td>0</td>\n",
       "      <td>1</td>\n",
       "      <td>163</td>\n",
       "      <td>1</td>\n",
       "      <td>0.6</td>\n",
       "      <td>2</td>\n",
       "      <td>0</td>\n",
       "      <td>2</td>\n",
       "      <td>1</td>\n",
       "    </tr>\n",
       "  </tbody>\n",
       "</table>\n",
       "</div>"
      ],
      "text/plain": [
       "   age  sex  cp  trtbps  chol  fbs  restecg  thalachh  exng  oldpeak  slp  \\\n",
       "0   63    1   3     145   233    1        0       150     0      2.3    0   \n",
       "1   37    1   2     130   250    0        1       187     0      3.5    0   \n",
       "2   41    0   1     130   204    0        0       172     0      1.4    2   \n",
       "3   56    1   1     120   236    0        1       178     0      0.8    2   \n",
       "4   57    0   0     120   354    0        1       163     1      0.6    2   \n",
       "\n",
       "   caa  thall  output  \n",
       "0    0      1       1  \n",
       "1    0      2       1  \n",
       "2    0      2       1  \n",
       "3    0      2       1  \n",
       "4    0      2       1  "
      ]
     },
     "execution_count": 4,
     "metadata": {},
     "output_type": "execute_result"
    }
   ],
   "source": [
    "df = pd.read_csv(\"heart.csv\")\n",
    "df.head()"
   ]
  },
  {
   "cell_type": "markdown",
   "id": "ef7f4cb0",
   "metadata": {},
   "source": [
    "Confusion Matrix\n",
    "\n",
    "• Let’s split our dataset into the input features and target output\n",
    "dataset."
   ]
  },
  {
   "cell_type": "code",
   "execution_count": 10,
   "id": "4cf5abce",
   "metadata": {},
   "outputs": [],
   "source": [
    "y = df[\"output\"]\n",
    "x = df.drop(\"output\", axis =1)"
   ]
  },
  {
   "cell_type": "markdown",
   "id": "2db0c8e0",
   "metadata": {},
   "source": [
    "To make our calculations more straightforward, we will scale our data\n",
    "and reduce it to a small range of values using the Standard Scaler."
   ]
  },
  {
   "cell_type": "code",
   "execution_count": 11,
   "id": "5679a7a6",
   "metadata": {},
   "outputs": [],
   "source": [
    "from sklearn.preprocessing import StandardScaler\n",
    "scaler = StandardScaler()\n",
    "x = pd.DataFrame(scaler.fit_transform(x))"
   ]
  },
  {
   "cell_type": "markdown",
   "id": "5e6f3226",
   "metadata": {},
   "source": [
    "Confusion Matrix\n",
    "\n",
    "• Now, let's split our dataset into two: one to train our model and\n",
    "another to test our model. To do this, we use train_test_split imported\n",
    "from sklearn"
   ]
  },
  {
   "cell_type": "code",
   "execution_count": 13,
   "id": "712b36cd",
   "metadata": {},
   "outputs": [],
   "source": [
    "X_train, X_test, y_train, y_test = train_test_split(x, y , test_size = 0.2,\n",
    "random_state = 42)"
   ]
  },
  {
   "cell_type": "markdown",
   "id": "6b1039be",
   "metadata": {},
   "source": [
    "Using a Logistic Regression Model, we will perform Classification on\n",
    "our train data and predict our test data to check the accuracy"
   ]
  },
  {
   "cell_type": "code",
   "execution_count": 14,
   "id": "9c2fcfde",
   "metadata": {},
   "outputs": [],
   "source": [
    "model = LogisticRegression()\n",
    "model.fit(X_train, y_train)\n",
    "pred = model.predict(X_test)"
   ]
  },
  {
   "cell_type": "markdown",
   "id": "70b925ec",
   "metadata": {},
   "source": [
    "Confusion Matrix\n",
    "\n",
    "\n",
    "Using the predicted values(pred) and our actual values(y_test), we can\n",
    "create a confusion matrix with the confusion_matrix function."
   ]
  },
  {
   "cell_type": "code",
   "execution_count": 15,
   "id": "34bc0a90",
   "metadata": {},
   "outputs": [
    {
     "data": {
      "text/plain": [
       "array([[25,  4],\n",
       "       [ 5, 27]], dtype=int64)"
      ]
     },
     "execution_count": 15,
     "metadata": {},
     "output_type": "execute_result"
    }
   ],
   "source": [
    "confusion_matrix(y_test, pred)"
   ]
  },
  {
   "cell_type": "markdown",
   "id": "0a7d5ba7",
   "metadata": {},
   "source": [
    "<b>• Then, using the ravel() method of our confusion_matrix function, we\n",
    "can get the True Positive, True Negative, False Positive, and False\n",
    "Negative values.</b>"
   ]
  },
  {
   "cell_type": "code",
   "execution_count": 17,
   "id": "1cbb9e37",
   "metadata": {},
   "outputs": [
    {
     "data": {
      "text/plain": [
       "(25, 4, 5, 27)"
      ]
     },
     "execution_count": 17,
     "metadata": {},
     "output_type": "execute_result"
    }
   ],
   "source": [
    "tp, fp, fn, tn = confusion_matrix(y_test, pred).ravel()\n",
    "(tp, fp, fn, tn)"
   ]
  },
  {
   "cell_type": "markdown",
   "id": "0e0994d4",
   "metadata": {},
   "source": [
    "Confusion Matrix\n",
    "\n",
    "• Finally, using the classification_report, we can find the values of\n",
    "various metrics of our confusion matrix.\n",
    "\n",
    "15.03.2022 Shadi.Saleh 17\n"
   ]
  },
  {
   "cell_type": "code",
   "execution_count": 24,
   "id": "54258f47",
   "metadata": {},
   "outputs": [
    {
     "name": "stdout",
     "output_type": "stream",
     "text": [
      "Classification report : \n",
      "               precision    recall  f1-score   support\n",
      "\n",
      "           0       0.83      0.86      0.85        29\n",
      "           1       0.87      0.84      0.86        32\n",
      "\n",
      "    accuracy                           0.85        61\n",
      "   macro avg       0.85      0.85      0.85        61\n",
      "weighted avg       0.85      0.85      0.85        61\n",
      "\n"
     ]
    }
   ],
   "source": [
    "matrix = classification_report(y_test, pred)\n",
    "print( \"Classification report : \\n\" , matrix)"
   ]
  },
  {
   "cell_type": "code",
   "execution_count": null,
   "id": "e946f796",
   "metadata": {},
   "outputs": [],
   "source": []
  }
 ],
 "metadata": {
  "kernelspec": {
   "display_name": "Python 3 (ipykernel)",
   "language": "python",
   "name": "python3"
  },
  "language_info": {
   "codemirror_mode": {
    "name": "ipython",
    "version": 3
   },
   "file_extension": ".py",
   "mimetype": "text/x-python",
   "name": "python",
   "nbconvert_exporter": "python",
   "pygments_lexer": "ipython3",
   "version": "3.9.7"
  }
 },
 "nbformat": 4,
 "nbformat_minor": 5
}
